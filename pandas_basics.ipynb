{
  "nbformat": 4,
  "nbformat_minor": 0,
  "metadata": {
    "colab": {
      "provenance": []
    },
    "kernelspec": {
      "name": "python3",
      "display_name": "Python 3"
    },
    "language_info": {
      "name": "python"
    }
  },
  "cells": [
    {
      "cell_type": "code",
      "execution_count": null,
      "metadata": {
        "id": "CabNbFq5yJCg"
      },
      "outputs": [],
      "source": []
    },
    {
      "cell_type": "markdown",
      "source": [
        "# Pandas\n",
        "\n",
        "- Pandas provides high-level data structures and functions designed to make working with structured or tabular data fast and easy.\n",
        "\n",
        "- Pandas is a package built on top of NumPy and provides an efficient implementation of a DataFrame.\n",
        "\n",
        "- Primary objects in pandas that will be used in this book are the DataFrame,a tabular, column-oriented data structure with both row and column labels, and the Series, a one-dimensional labeled array object.\n",
        "\n",
        "- Data frames are essentially multidimensional arrays with attached row and column labels, that contain heterogeneous types and/or missing data.\n",
        "\n",
        "- Pandas data frames have sophisticated indexing functionality to make it easy to reshape, slice and dice, perform aggregations, and select subsets of data.\n",
        "\n",
        "- Pandas implements several powerful data\n",
        "operations familiar to users of both database frameworks and spreadsheet programs.\n",
        "\n",
        "- Pandas is a tool for data processing that helps in data analysis.\n",
        "\n",
        "- Pandas provides functions and methods to efficiently manipulate large datasets."
      ],
      "metadata": {
        "id": "C5T3JrVMyK64"
      }
    },
    {
      "cell_type": "code",
      "source": [
        "import numpy as np\n",
        "import pandas as pd\n",
        "import math"
      ],
      "metadata": {
        "id": "iLtPVk-szOPm"
      },
      "execution_count": null,
      "outputs": []
    },
    {
      "cell_type": "markdown",
      "source": [
        "# Series\n",
        "\n",
        "A pandas Series is a one-dimensional array of indexed data. It can be created from a list or array. For example,"
      ],
      "metadata": {
        "id": "jlIVf6x1zkXi"
      }
    },
    {
      "cell_type": "code",
      "source": [
        "series = pd.Series([0.25, 1.5, 3, 7.5, 11, 9, math.pi, 2**0.5, math.e, np.log10(100)])\n",
        "series"
      ],
      "metadata": {
        "id": "yJxJ6AX7znJE"
      },
      "execution_count": null,
      "outputs": []
    },
    {
      "cell_type": "code",
      "source": [
        "len(series)"
      ],
      "metadata": {
        "id": "330gw6vQz7ci"
      },
      "execution_count": null,
      "outputs": []
    },
    {
      "cell_type": "markdown",
      "source": [
        "As we see in the preceding output, the Series wraps both a sequence of values and a sequence of indices, which we can access with the values and index attributes.\n",
        "\n",
        "The values are simply a familiar NumPy array."
      ],
      "metadata": {
        "id": "Wf2ntuR90Wt0"
      }
    },
    {
      "cell_type": "code",
      "source": [
        "series.values"
      ],
      "metadata": {
        "id": "blaMyEer0Zw_"
      },
      "execution_count": null,
      "outputs": []
    },
    {
      "cell_type": "markdown",
      "source": [
        "Like with a NumPy array, data can be accessed by the associated index via the familiar Python square-bracket notation."
      ],
      "metadata": {
        "id": "fyxZ0y_C0kTv"
      }
    },
    {
      "cell_type": "code",
      "source": [
        "series[1]"
      ],
      "metadata": {
        "id": "L_OvXiDy1Tkm"
      },
      "execution_count": null,
      "outputs": []
    },
    {
      "cell_type": "code",
      "source": [
        "series[1:4]"
      ],
      "metadata": {
        "id": "wKixgKY71XKx"
      },
      "execution_count": null,
      "outputs": []
    },
    {
      "cell_type": "markdown",
      "source": [
        "- NumPy array has an implicitly defined integer index used to access the values. \n",
        "\n",
        "- The Pandas Series has an explicitly defined index associated with the values."
      ],
      "metadata": {
        "id": "LYrzEQOW1ilv"
      }
    },
    {
      "cell_type": "code",
      "source": [
        "data = pd.Series([1.5, 6, 9, 10, 5], index = ['a', 'b', 'c', 'd', 'e'])\n",
        "data"
      ],
      "metadata": {
        "id": "KsuYw-x81oL3"
      },
      "execution_count": null,
      "outputs": []
    },
    {
      "cell_type": "markdown",
      "source": [
        "This explicit index definition gives the Series object additional capabilities. For example, the index need not be an integer, but can consist of values of any desired type."
      ],
      "metadata": {
        "id": "OzpCVGnr2GOZ"
      }
    },
    {
      "cell_type": "code",
      "source": [
        "data['a']"
      ],
      "metadata": {
        "id": "B4KNVaol2IqJ"
      },
      "execution_count": null,
      "outputs": []
    },
    {
      "cell_type": "markdown",
      "source": [
        "- A dictionary is a structure that maps arbitrary keys to a set of arbitrary values, and a Series is a structure that\n",
        "maps typed keys to a set of typed values.\n",
        "\n",
        "- This typing is important: just as the type-specific compiled code behind a NumPy array makes it more efficient than a Python list for certain operations, the type information of a Pandas Series makes it much more efficient than Python dictionaries for certain operations."
      ],
      "metadata": {
        "id": "2rJJmFtQ2p8C"
      }
    },
    {
      "cell_type": "code",
      "source": [
        "population_dictionary = {'California' : 38332521,\n",
        "                         'Texas' : 26448193,\n",
        "                         'New York' : 19651127,\n",
        "                         'Florida' : 19552860,\n",
        "                         'Illinois' : 128821135}\n",
        "population_dictionary"
      ],
      "metadata": {
        "id": "Rh21P17R22ZU"
      },
      "execution_count": null,
      "outputs": []
    },
    {
      "cell_type": "code",
      "source": [
        "population = pd.Series(population_dictionary)\n",
        "population"
      ],
      "metadata": {
        "id": "f3kNC7bu3v0P"
      },
      "execution_count": null,
      "outputs": []
    },
    {
      "cell_type": "code",
      "source": [
        "population['New York']"
      ],
      "metadata": {
        "id": "I0bULWwZ36jI"
      },
      "execution_count": null,
      "outputs": []
    },
    {
      "cell_type": "code",
      "source": [
        "population['California':'Florida']"
      ],
      "metadata": {
        "id": "MnXiXErh3-gr"
      },
      "execution_count": null,
      "outputs": []
    },
    {
      "cell_type": "markdown",
      "source": [
        "**Question1.** Create a Series of the first 100 integers."
      ],
      "metadata": {
        "id": "lW7T7KxO4kou"
      }
    },
    {
      "cell_type": "code",
      "source": [
        "pd.Series(np.arange(1,101))"
      ],
      "metadata": {
        "id": "_e2wvhMu4N4D"
      },
      "execution_count": null,
      "outputs": []
    },
    {
      "cell_type": "markdown",
      "source": [
        "**Question 2.** Create a series from a dictionary using the following data. \n",
        "\n",
        "|City Name|Airport Abbreviation|\n",
        "|---------|--------------------|\n",
        "|Dubai    |DBX|\n",
        "|Abu Dhabi|AUH|\n",
        "|Sharjah|SHJ|\n",
        "\n",
        "Make the city the key and the airport abbreviation the value.\n"
      ],
      "metadata": {
        "id": "6BH4huwJ43qF"
      }
    },
    {
      "cell_type": "code",
      "source": [],
      "metadata": {
        "id": "VWfVnUxj4yBq"
      },
      "execution_count": null,
      "outputs": []
    },
    {
      "cell_type": "markdown",
      "source": [
        "**Question 3.** Create a series using the following data.\n",
        "\n",
        "|State Name|Capital|\n",
        "|---------|--------------------|\n",
        "|California|Los Angeles|\n",
        "|Texas|Dallas|\n",
        "|North Carolina|Raleigh|\n",
        "\n",
        "Make the state name the index."
      ],
      "metadata": {
        "id": "nEtHXeAD55jJ"
      }
    },
    {
      "cell_type": "markdown",
      "source": [
        "# Data Frame\n",
        "\n",
        "The next fundamental structure in Pandas is the DataFrame. Like the Series object discussed in the previous section, the DataFrame can be thought of either as a generalization of a NumPy array, or as a specialization of a Python dictionary.\n",
        "\n",
        "- If a Series is an analog of a one-dimensional array with flexible indices, a DataFrame is an analog of a twodimensional array with both flexible row indices and flexible column names.\n",
        "\n",
        "- Just as you might think of a two-dimensional array as an ordered sequence of aligned one-dimensional columns, you can think of a DataFrame as a sequence of aligned Series objects. \n",
        "  \n",
        "  **Note:** Here, by “aligned” we mean that they share the same index."
      ],
      "metadata": {
        "id": "mBhV-T3I7Ld8"
      }
    },
    {
      "cell_type": "code",
      "source": [
        "area_dictionary = {'California' : 432967,\n",
        "                   'Texas' : 695662,\n",
        "                   'New York' : 141297,\n",
        "                   'Florida' : 170312,\n",
        "                   'Illinois' : 149995}\n",
        "area_dictionary"
      ],
      "metadata": {
        "id": "HF8XM0O76-IC"
      },
      "execution_count": null,
      "outputs": []
    },
    {
      "cell_type": "code",
      "source": [
        "area = pd.Series(area_dictionary)\n",
        "area"
      ],
      "metadata": {
        "id": "nYbDB1ew8Vzg"
      },
      "execution_count": null,
      "outputs": []
    },
    {
      "cell_type": "markdown",
      "source": [
        "Now that we have this along with the population Series from before, we can use a dictionary to construct a single two-dimensional object containing this information."
      ],
      "metadata": {
        "id": "dAYUX-_F8ktu"
      }
    },
    {
      "cell_type": "code",
      "source": [
        "states = pd.DataFrame({'population' : population,\n",
        "                       'area': area})\n",
        "\n",
        "states"
      ],
      "metadata": {
        "id": "Z0fKIRvU8ZPi"
      },
      "execution_count": null,
      "outputs": []
    },
    {
      "cell_type": "code",
      "source": [
        "states.index"
      ],
      "metadata": {
        "id": "d9piGmnC87AC"
      },
      "execution_count": null,
      "outputs": []
    },
    {
      "cell_type": "code",
      "source": [
        "states.columns"
      ],
      "metadata": {
        "id": "YsqH3LgW9itd"
      },
      "execution_count": null,
      "outputs": []
    },
    {
      "cell_type": "markdown",
      "source": [
        "- Similarly, we can also think of a DataFrame as a specialization of a dictionary. \n",
        "\n",
        "- Where a dictionary maps a key to a value, a DataFrame maps a column name to a Series of column data.\n",
        "\n",
        "- For example, asking for the 'area' attribute returns the Series object containing the areas we saw earlier:"
      ],
      "metadata": {
        "id": "eLPQUPQO9bbq"
      }
    },
    {
      "cell_type": "code",
      "source": [
        "states['area']"
      ],
      "metadata": {
        "id": "qfmUhxNs9TSC"
      },
      "execution_count": null,
      "outputs": []
    },
    {
      "cell_type": "markdown",
      "source": [
        "A Pandas Data Frame can be constructed in a variety of ways."
      ],
      "metadata": {
        "id": "2K5-yiIz9z9r"
      }
    },
    {
      "cell_type": "code",
      "source": [
        "pd.DataFrame(population, columns = ['population'])"
      ],
      "metadata": {
        "id": "wD6T3sbn9U_B"
      },
      "execution_count": null,
      "outputs": []
    },
    {
      "cell_type": "code",
      "source": [
        "data = [{'a' : i, 'b' : 2*i} for i in np.arange(3)]\n",
        "data"
      ],
      "metadata": {
        "id": "K_mFPAt096LB"
      },
      "execution_count": null,
      "outputs": []
    },
    {
      "cell_type": "code",
      "source": [
        "pd.DataFrame(data)"
      ],
      "metadata": {
        "id": "gYWSF0ai-Tsr"
      },
      "execution_count": null,
      "outputs": []
    },
    {
      "cell_type": "code",
      "source": [
        "pd.DataFrame([{'a' : 1, 'b': 2}, {'b' : 3, 'c' : 4}])"
      ],
      "metadata": {
        "id": "sl1TGLa5-ZMk"
      },
      "execution_count": null,
      "outputs": []
    },
    {
      "cell_type": "markdown",
      "source": [
        "- Given a two-dimensional array of data, we can create a Data Frame with any specified column and index names.\n",
        "\n",
        "- If omitted, an integer index will be used for each:"
      ],
      "metadata": {
        "id": "8h6lbAtq_GbO"
      }
    },
    {
      "cell_type": "code",
      "source": [
        "pd.DataFrame(np.random.rand(3,2),\n",
        "             columns = ['foo', 'bar'])"
      ],
      "metadata": {
        "id": "ZsSjrBNh-zgo"
      },
      "execution_count": null,
      "outputs": []
    },
    {
      "cell_type": "code",
      "source": [
        "pd.DataFrame(np.random.rand(3,2),\n",
        "             columns = ['foo', 'bar'],\n",
        "             index = ['a', 'b', 'c'])"
      ],
      "metadata": {
        "id": "QSbpBroW_YOO"
      },
      "execution_count": null,
      "outputs": []
    },
    {
      "cell_type": "markdown",
      "source": [
        "**Question 4.** Create a data frame using the following data.\n",
        "\n",
        "|name|age|height|\n",
        "|----|---|------|\n",
        "|jean|15|150|\n",
        "|jake|17|161|\n",
        "|joe|13|135|"
      ],
      "metadata": {
        "id": "ZIa5P_3a__ma"
      }
    },
    {
      "cell_type": "code",
      "source": [],
      "metadata": {
        "id": "AisIKPWc_ixO"
      },
      "execution_count": null,
      "outputs": []
    },
    {
      "cell_type": "markdown",
      "source": [
        "**Question 5.** Create the same data frame as you did in **Question 4** but make the name the index and add a column named `hair_color`.\n",
        "\n",
        "||age|height|hair_color|\n",
        "|----|---|------|------|\n",
        "|**jean**|15|150|brown|\n",
        "|**jake**|17|161|black|\n",
        "|**joe**|13|135|brown|"
      ],
      "metadata": {
        "id": "0ZXw8KXVAq9s"
      }
    },
    {
      "cell_type": "code",
      "source": [],
      "metadata": {
        "id": "P6wA-R1KBp0W"
      },
      "execution_count": null,
      "outputs": []
    },
    {
      "cell_type": "markdown",
      "source": [
        "# Manipulating Data Frames"
      ],
      "metadata": {
        "id": "ZKf3LOsxBuXd"
      }
    },
    {
      "cell_type": "code",
      "source": [
        "url = 'https://raw.githubusercontent.com/mahmoudharding/exceed/main/data/2022_population.csv'\n",
        "world = pd.read_csv(url)\n",
        "world"
      ],
      "metadata": {
        "id": "T3evytCeByR6"
      },
      "execution_count": null,
      "outputs": []
    }
  ]
}