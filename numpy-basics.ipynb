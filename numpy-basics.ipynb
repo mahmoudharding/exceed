{
  "nbformat": 4,
  "nbformat_minor": 0,
  "metadata": {
    "colab": {
      "provenance": []
    },
    "kernelspec": {
      "name": "python3",
      "display_name": "Python 3"
    },
    "language_info": {
      "name": "python"
    }
  },
  "cells": [
    {
      "cell_type": "markdown",
      "source": [
        "# Python Libraries for Data Science\n",
        "\n",
        "\n",
        "- Python libraries are a collection of modules that contain functions & classes\n",
        "\n",
        "- Python libraries are a collection of codes or modules of codes that we can use in a program for specific operations\n",
        "\n",
        "- A library contains built-in modules (written in C) that provide access to system functionality (such as file I/O) that would otherwise be inaccessible to Python programmers, as well as modules written in Python that provide standardized solutions\n",
        "\n",
        "- Provides functions to work in the domains of Linear Algebra, Fourier transform, Matrices, etc.\n",
        "\n",
        "- Play a vital role in developing machine learning, data science, data visualization, image, and data manipulation, etc.\n",
        "\n",
        "\n",
        "## Numpy Basics\n",
        "\n",
        "### What is Numpy?\n",
        "\n",
        "- NumPy is the core library for scientific and numerical computing in Python\n",
        "\n",
        "- It provides a high –performance multidimensional array object and tool for working with arrays\n",
        "\n",
        "- The NumPy vectorization, indexing, and broadcasting concepts are the de-facto standards of array computing today\n",
        "\n",
        "- NumPy offers comprehensive mathematical functions, random number generators, linear algebra routines, Fourier transforms, and more\n",
        "\n",
        "- NumPy’s high-level syntax makes it accessible and productive for programmers from any background or experience level\n",
        "\n",
        "### Why Numpy?\n",
        "\n",
        "- A fast and efficient multidimensional array object ndarray\n",
        "\n",
        "- Functions for performing element-wise computations with arrays or mathematical operations between arrays(Linear algebra operations, Fourier transform, and random number generation)\n",
        "\n",
        "- Tools for reading and writing array-based datasets to disk\n",
        "\n",
        "- A mature C API to enable Python extensions and native C or C++ code to access NumPy’s data \n",
        "\n",
        "- NumPy arrays are more efficient for storing and manipulating data than the other built-in Python data structures\n",
        "\n",
        "- Lots of supporting functions \n",
        "\n",
        "\n",
        "### Import Numpy"
      ],
      "metadata": {
        "id": "AxaVwGG8-y4K"
      }
    },
    {
      "cell_type": "code",
      "execution_count": null,
      "metadata": {
        "id": "y-PjDEuJ-uuT"
      },
      "outputs": [],
      "source": []
    },
    {
      "cell_type": "markdown",
      "source": [
        "A list of five items."
      ],
      "metadata": {
        "id": "cFAP2LaKCQ0-"
      }
    },
    {
      "cell_type": "code",
      "source": [],
      "metadata": {
        "id": "lQ7NKW35Bfkm"
      },
      "execution_count": null,
      "outputs": []
    },
    {
      "cell_type": "markdown",
      "source": [
        "A tuple of five items."
      ],
      "metadata": {
        "id": "aBosLgBpG6EW"
      }
    },
    {
      "cell_type": "code",
      "source": [],
      "metadata": {
        "id": "lcP-S1_LG8UD"
      },
      "execution_count": null,
      "outputs": []
    },
    {
      "cell_type": "markdown",
      "source": [
        "An array of five items."
      ],
      "metadata": {
        "id": "fnyemZyXCTQm"
      }
    },
    {
      "cell_type": "code",
      "source": [],
      "metadata": {
        "id": "5bUjiP7LBuzf"
      },
      "execution_count": null,
      "outputs": []
    },
    {
      "cell_type": "code",
      "source": [
        "lst = [1, 2, 3, 4, 5]\n",
        "tpl = (1, 2, 4, 5)\n",
        "arr = np.array(...)\n",
        "arr1 = np.array(...)\n",
        "lst, tpl, arr, arr1"
      ],
      "metadata": {
        "id": "jIpb-x3zB1kt"
      },
      "execution_count": null,
      "outputs": []
    },
    {
      "cell_type": "code",
      "source": [
        "lst * 2"
      ],
      "metadata": {
        "id": "dnhRY0QrCHbS"
      },
      "execution_count": null,
      "outputs": []
    },
    {
      "cell_type": "code",
      "source": [
        "tpl * 2"
      ],
      "metadata": {
        "id": "T8b0WrTeHS4x"
      },
      "execution_count": null,
      "outputs": []
    },
    {
      "cell_type": "code",
      "source": [
        "arr * 2"
      ],
      "metadata": {
        "id": "tI-b2WKtCdlE"
      },
      "execution_count": null,
      "outputs": []
    },
    {
      "cell_type": "markdown",
      "source": [
        "#### Creating Arrays\n",
        "\n",
        "**Example 1.** Create a sequence of consecutive integers from 1 to 100 inclusive with a step-size of 1."
      ],
      "metadata": {
        "id": "C-qrmqb-Cl3k"
      }
    },
    {
      "cell_type": "code",
      "source": [
        "np.arange(...)"
      ],
      "metadata": {
        "id": "z0vqi9qzCe9X"
      },
      "execution_count": null,
      "outputs": []
    },
    {
      "cell_type": "markdown",
      "source": [
        "**Example 2.** Create an array initialized with 10 zeros."
      ],
      "metadata": {
        "id": "Tn3J0lHlDHd-"
      }
    },
    {
      "cell_type": "code",
      "source": [
        "..."
      ],
      "metadata": {
        "id": "8Pfs3gKfLh5E"
      },
      "execution_count": null,
      "outputs": []
    },
    {
      "cell_type": "code",
      "source": [
        "..."
      ],
      "metadata": {
        "id": "jX2K1HpsLper"
      },
      "execution_count": null,
      "outputs": []
    },
    {
      "cell_type": "markdown",
      "source": [
        "**Example 3.** Create 3 by 5 array initialized with 1.0."
      ],
      "metadata": {
        "id": "b5m6T0M3DWkD"
      }
    },
    {
      "cell_type": "code",
      "source": [
        "..."
      ],
      "metadata": {
        "id": "nGmZNZqgLiav"
      },
      "execution_count": null,
      "outputs": []
    },
    {
      "cell_type": "markdown",
      "source": [
        "**Example 4.** Create an array of 10 values evenly spaced between 0 and 1."
      ],
      "metadata": {
        "id": "MexaZg4YDk__"
      }
    },
    {
      "cell_type": "code",
      "source": [
        "..."
      ],
      "metadata": {
        "id": "yK-4Nn94LjDQ"
      },
      "execution_count": null,
      "outputs": []
    },
    {
      "cell_type": "markdown",
      "source": [
        "#### Random Numbers"
      ],
      "metadata": {
        "id": "sDkusWjhMGIx"
      }
    },
    {
      "cell_type": "code",
      "source": [
        "np.random.normal()"
      ],
      "metadata": {
        "id": "zVGNUUtbDCKI"
      },
      "execution_count": null,
      "outputs": []
    },
    {
      "cell_type": "code",
      "source": [
        "np.random.normal(...)\n"
      ],
      "metadata": {
        "id": "sf_Ed1ZPEDNT"
      },
      "execution_count": null,
      "outputs": []
    },
    {
      "cell_type": "code",
      "source": [
        "mu = 0\n",
        "sigma = 0.1\n",
        "np.random.normal(...)"
      ],
      "metadata": {
        "id": "YmdGMAKBEtok"
      },
      "execution_count": null,
      "outputs": []
    },
    {
      "cell_type": "code",
      "source": [
        "np.random.randint(...)"
      ],
      "metadata": {
        "id": "Xs32nBoXE55x"
      },
      "execution_count": null,
      "outputs": []
    },
    {
      "cell_type": "code",
      "source": [
        "np.random.randint(...)"
      ],
      "metadata": {
        "id": "KX4AR368FVx5"
      },
      "execution_count": null,
      "outputs": []
    },
    {
      "cell_type": "code",
      "source": [
        "np.random.normal(...)"
      ],
      "metadata": {
        "id": "TcwxEMn1GHm6"
      },
      "execution_count": null,
      "outputs": []
    },
    {
      "cell_type": "code",
      "source": [
        "np.random.randint(...)"
      ],
      "metadata": {
        "id": "gdQO-fg-GS0d"
      },
      "execution_count": null,
      "outputs": []
    },
    {
      "cell_type": "code",
      "source": [
        "np.eye(...)"
      ],
      "metadata": {
        "id": "_EbnvQm_GaDx"
      },
      "execution_count": null,
      "outputs": []
    },
    {
      "cell_type": "code",
      "source": [
        "np.empty(...)"
      ],
      "metadata": {
        "id": "Ui0A325zGkps"
      },
      "execution_count": null,
      "outputs": []
    },
    {
      "cell_type": "markdown",
      "source": [
        "#### 1-dimensional Subarrays"
      ],
      "metadata": {
        "id": "dI1jh__kHYuM"
      }
    },
    {
      "cell_type": "code",
      "source": [
        "arr = np.arange(21)\n",
        "arr"
      ],
      "metadata": {
        "id": "TVEgFn0RGoUS"
      },
      "execution_count": null,
      "outputs": []
    },
    {
      "cell_type": "code",
      "source": [
        "..."
      ],
      "metadata": {
        "id": "80ShqSkAKbq2"
      },
      "execution_count": null,
      "outputs": []
    },
    {
      "cell_type": "code",
      "source": [
        "..."
      ],
      "metadata": {
        "id": "eKOEgRPLHmxz"
      },
      "execution_count": null,
      "outputs": []
    },
    {
      "cell_type": "code",
      "source": [
        "..."
      ],
      "metadata": {
        "id": "GU03_AuxHpPV"
      },
      "execution_count": null,
      "outputs": []
    },
    {
      "cell_type": "code",
      "source": [
        "..."
      ],
      "metadata": {
        "id": "GvGRAh87HwV1"
      },
      "execution_count": null,
      "outputs": []
    },
    {
      "cell_type": "code",
      "source": [
        "..."
      ],
      "metadata": {
        "id": "kbRiIs3wIQvk"
      },
      "execution_count": null,
      "outputs": []
    },
    {
      "cell_type": "code",
      "source": [
        "..."
      ],
      "metadata": {
        "id": "JdCbVfynH57z"
      },
      "execution_count": null,
      "outputs": []
    },
    {
      "cell_type": "code",
      "source": [
        "..."
      ],
      "metadata": {
        "id": "i5cKAsLHH_UC"
      },
      "execution_count": null,
      "outputs": []
    },
    {
      "cell_type": "markdown",
      "source": [
        "#### Multi-dimensional Subarrays"
      ],
      "metadata": {
        "id": "gSgSEvwbIlM-"
      }
    },
    {
      "cell_type": "code",
      "source": [
        "arr2 = np.array([\n",
        "    [1, 2, 3, 4], \n",
        "    [5, 6, 7, 8],\n",
        "    [9, 10, 11, 12]\n",
        "    ])\n",
        "arr2"
      ],
      "metadata": {
        "id": "8ItKNyPEIaza"
      },
      "execution_count": null,
      "outputs": []
    },
    {
      "cell_type": "code",
      "source": [
        "..."
      ],
      "metadata": {
        "id": "5DVCAVhVKZDk"
      },
      "execution_count": null,
      "outputs": []
    },
    {
      "cell_type": "code",
      "source": [
        "..."
      ],
      "metadata": {
        "id": "vaCp0wuFI0dx"
      },
      "execution_count": null,
      "outputs": []
    },
    {
      "cell_type": "code",
      "source": [
        "..."
      ],
      "metadata": {
        "id": "nvN6ad6sJRNb"
      },
      "execution_count": null,
      "outputs": []
    },
    {
      "cell_type": "markdown",
      "source": [
        "#### Array Manipulation"
      ],
      "metadata": {
        "id": "BCt97UjhKkDB"
      }
    },
    {
      "cell_type": "code",
      "source": [
        "..."
      ],
      "metadata": {
        "id": "hovpyDpIKWpZ"
      },
      "execution_count": null,
      "outputs": []
    },
    {
      "cell_type": "code",
      "source": [
        "..."
      ],
      "metadata": {
        "id": "tQuhq3DFKq8s"
      },
      "execution_count": null,
      "outputs": []
    },
    {
      "cell_type": "code",
      "source": [
        "..."
      ],
      "metadata": {
        "id": "kxXMpeK9KuWz"
      },
      "execution_count": null,
      "outputs": []
    },
    {
      "cell_type": "code",
      "source": [
        "..."
      ],
      "metadata": {
        "id": "AI-7Vmz0KzSU"
      },
      "execution_count": null,
      "outputs": []
    },
    {
      "cell_type": "markdown",
      "source": [
        "#### Array Arithmetic"
      ],
      "metadata": {
        "id": "okX51YEqLOZY"
      }
    },
    {
      "cell_type": "code",
      "source": [
        "a = np.array([1, 2, 3, 4])\n",
        "b = np.full((4,), 10)\n",
        "a, b"
      ],
      "metadata": {
        "id": "M0uXgNj4K8Kw"
      },
      "execution_count": null,
      "outputs": []
    },
    {
      "cell_type": "code",
      "source": [
        "np.add(...)"
      ],
      "metadata": {
        "id": "y7qCmIB9K-HI"
      },
      "execution_count": null,
      "outputs": []
    },
    {
      "cell_type": "code",
      "source": [
        "np.subtract(...)"
      ],
      "metadata": {
        "id": "G-lEkSowM3MI"
      },
      "execution_count": null,
      "outputs": []
    },
    {
      "cell_type": "code",
      "source": [
        "np.multiply(...)"
      ],
      "metadata": {
        "id": "0zRTC19HM5Xl"
      },
      "execution_count": null,
      "outputs": []
    },
    {
      "cell_type": "code",
      "source": [
        "np.divide(...)"
      ],
      "metadata": {
        "id": "YTn0Ine2M8c3"
      },
      "execution_count": null,
      "outputs": []
    },
    {
      "cell_type": "markdown",
      "source": [
        "#### Matrix Multiplication "
      ],
      "metadata": {
        "id": "wfoG6MJmNh6S"
      }
    },
    {
      "cell_type": "code",
      "source": [
        "a = np.array([\n",
        "    [1, 2],\n",
        "    [3, 4]\n",
        "])\n",
        "\n",
        "b = np.array([\n",
        "    [5, 6],\n",
        "    [7, 8]\n",
        "])"
      ],
      "metadata": {
        "id": "b2w8iladNmws"
      },
      "execution_count": null,
      "outputs": []
    },
    {
      "cell_type": "code",
      "source": [
        "np.multiply(...)"
      ],
      "metadata": {
        "id": "kG2y_7sfOMTS"
      },
      "execution_count": null,
      "outputs": []
    },
    {
      "cell_type": "code",
      "source": [
        "np.matmul(...)"
      ],
      "metadata": {
        "id": "SnOEYuiwOPVF"
      },
      "execution_count": null,
      "outputs": []
    },
    {
      "cell_type": "code",
      "source": [
        "np.dot(...)"
      ],
      "metadata": {
        "id": "n3E4M8h5OZM3"
      },
      "execution_count": null,
      "outputs": []
    },
    {
      "cell_type": "markdown",
      "source": [
        "### Population"
      ],
      "metadata": {
        "id": "KQ4ElkQ2O91n"
      }
    },
    {
      "cell_type": "code",
      "source": [
        "pop = np.loadtxt('https://raw.githubusercontent.com/mahmoudharding/exceed/main/data/world_pop.csv', delimiter=\",\", skiprows=1)\n",
        "pop"
      ],
      "metadata": {
        "id": "NcOXB4oJOcPK"
      },
      "execution_count": null,
      "outputs": []
    },
    {
      "cell_type": "markdown",
      "source": [
        "### Old Faithful"
      ],
      "metadata": {
        "id": "XX28AurQXzA-"
      }
    },
    {
      "cell_type": "code",
      "source": [
        "of = np.loadtxt('https://raw.githubusercontent.com/mahmoudharding/exceed/main/data/old_faithful.csv', delimiter=\",\", skiprows=1, usecols=(0,1))\n",
        "of"
      ],
      "metadata": {
        "id": "bCBlBhXXPF5i"
      },
      "execution_count": null,
      "outputs": []
    },
    {
      "cell_type": "code",
      "source": [],
      "metadata": {
        "id": "kseKwiKKXQls"
      },
      "execution_count": null,
      "outputs": []
    }
  ]
}