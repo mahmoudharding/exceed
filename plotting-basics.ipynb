{
  "nbformat": 4,
  "nbformat_minor": 0,
  "metadata": {
    "colab": {
      "provenance": []
    },
    "kernelspec": {
      "name": "python3",
      "display_name": "Python 3"
    },
    "language_info": {
      "name": "python"
    }
  },
  "cells": [
    {
      "cell_type": "markdown",
      "source": [
        "# Visualizations\n",
        "\n",
        "## Matplotlib\n",
        "\n",
        "- Matplotlib is a Python library for producing plots and other two-dimensional data visualizations.\n",
        "\n",
        "- It is an open-source drawing library that supports drawings.\n",
        "\n",
        "- Used to draw 2D and 3D graphics.\n",
        "\n",
        "- Data can easily visualize with the help of matplotlib and generate plots, histograms, and bar charts.\n",
        "\n",
        "## Types of Plots\n",
        "1. Bar Chart\n",
        "\n",
        "2. Scatter Plot\n",
        "\n",
        "3. Pie Chart\n",
        "\n",
        "4. Histogram\n",
        "\n",
        "5. Line chart\n",
        "\n",
        "6. Area Graph"
      ],
      "metadata": {
        "id": "jy1Vu_ozFEbl"
      }
    },
    {
      "cell_type": "code",
      "source": [
        "import seaborn as sns\n",
        "import matplotlib as mpl\n",
        "import matplotlib.pyplot as plt\n",
        "%matplotlib inline\n",
        "plt.rcParams['figure.figsize'] = (12, 5)\n",
        "plt.rcParams['figure.dpi'] = 100"
      ],
      "metadata": {
        "id": "yDE7mr-3FC3l"
      },
      "execution_count": null,
      "outputs": []
    },
    {
      "cell_type": "markdown",
      "source": [
        "**Line Plots**\n",
        "\n",
        "Perhaps the simplest of all plots is the visualization of a single function $y=f(x)$. For all Matplotlib plots, we start by creating a figure and an axes. In their simplest form, a figure and axes can be created as follows"
      ],
      "metadata": {
        "id": "GoWTXw67GZLf"
      }
    },
    {
      "cell_type": "code",
      "source": [
        "fig = plt.figure()\n",
        "ax = plt.axes()"
      ],
      "metadata": {
        "id": "dTAFOf9TFDp9"
      },
      "execution_count": null,
      "outputs": []
    },
    {
      "cell_type": "markdown",
      "source": [
        "The `plt.plot()` function takes additional arguments that can be used to specify these. To adjust the color, you can use the color keyword, which accepts a string argument representing virtually any imaginable color."
      ],
      "metadata": {
        "id": "r3ybAnL3G8oe"
      }
    },
    {
      "cell_type": "code",
      "source": [
        "x = np.linspace(0, 10, 100)"
      ],
      "metadata": {
        "id": "45TdHYdrHNXk"
      },
      "execution_count": null,
      "outputs": []
    },
    {
      "cell_type": "code",
      "source": [
        "plt.plot(x, np.sin(x), color='blue');            # Specify the color by name\n",
        "plt.plot(x, np.sin(x-1), color='g');             # Short color code (rgbcmyk)\n",
        "plt.plot(x, np.sin(x-2), color='0.75');          # Grayscale between 0 and 1\n",
        "plt.plot(x, np.sin(x-3), color='#FFDD44');       # HEX code (RRGGBB from 00 to FF)\n",
        "plt.plot(x, np.sin(x-4), color=(1.0, 0.2, 0.3)); # RGB tuple (0 and 1)\n",
        "plt.plot(x, np.sin(x-5), color='chartreuse');    # All HTML color names are supported"
      ],
      "metadata": {
        "id": "jY4b9ensGvaj"
      },
      "execution_count": null,
      "outputs": []
    },
    {
      "cell_type": "markdown",
      "source": [
        "Matplotlib does a decent job of choosing default axes limits for your plot, but sometimes it’s nice to have finer control."
      ],
      "metadata": {
        "id": "D-g0pk93IjJf"
      }
    },
    {
      "cell_type": "code",
      "source": [
        "plt.plot(x, np.sin(x))\n",
        "plt.xlim(-1,11)\n",
        "plt.ylim(-1.5, 1.5);"
      ],
      "metadata": {
        "id": "WTxOZIoOHI0B"
      },
      "execution_count": null,
      "outputs": []
    },
    {
      "cell_type": "markdown",
      "source": [
        "Titles and axis labels are the simplest such labels there are methods that can be used to quickly set them."
      ],
      "metadata": {
        "id": "ROh5KTDSI8zN"
      }
    },
    {
      "cell_type": "code",
      "source": [
        "plt.plot(x, np.sin(x))\n",
        "plt.xlabel('x')\n",
        "plt.ylabel('sin(x')\n",
        "plt.title(\"A Sine Curve\");"
      ],
      "metadata": {
        "id": "Ccn32gc8I1_D"
      },
      "execution_count": null,
      "outputs": []
    },
    {
      "cell_type": "markdown",
      "source": [
        "**Bar plots** \n",
        "\n",
        "Bar plots are used to viualize the distribution of a categorical feature."
      ],
      "metadata": {
        "id": "0KbcQ4zRKpTi"
      }
    },
    {
      "cell_type": "code",
      "source": [
        "url = 'https://raw.githubusercontent.com/mahmoudharding/exceed/main/data/titanic.csv'\n",
        "titanic = pd.read_csv(url)\n",
        "titanic"
      ],
      "metadata": {
        "id": "w6TcYIrwJTog"
      },
      "execution_count": null,
      "outputs": []
    },
    {
      "cell_type": "markdown",
      "source": [
        "**Histograms**\n",
        "\n",
        "Histograms are used to visualize the distribution of a numerical feature."
      ],
      "metadata": {
        "id": "nkwRqRpuP0wh"
      }
    },
    {
      "cell_type": "code",
      "source": [],
      "metadata": {
        "id": "Xw3Ldq-OQhr4"
      },
      "execution_count": null,
      "outputs": []
    },
    {
      "cell_type": "markdown",
      "source": [
        "**Scatter Plot**\n",
        "\n",
        "Scatter plots are used to visualize the linear association between two numerical features."
      ],
      "metadata": {
        "id": "R2g5LviKQV9n"
      }
    },
    {
      "cell_type": "code",
      "source": [],
      "metadata": {
        "id": "F1sRahx1PYkf"
      },
      "execution_count": null,
      "outputs": []
    }
  ]
}