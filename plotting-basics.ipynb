{
  "nbformat": 4,
  "nbformat_minor": 0,
  "metadata": {
    "colab": {
      "provenance": []
    },
    "kernelspec": {
      "name": "python3",
      "display_name": "Python 3"
    },
    "language_info": {
      "name": "python"
    }
  },
  "cells": [
    {
      "cell_type": "markdown",
      "source": [
        "# Visualizations\n",
        "\n",
        "## Matplotlib\n",
        "\n",
        "- Matplotlib is a Python library for producing plots and other two-dimensional data visualizations.\n",
        "\n",
        "- It is an open-source drawing library that supports drawings.\n",
        "\n",
        "- Used to draw 2D and 3D graphics.\n",
        "\n",
        "- Data can easily visualize with the help of matplotlib and generate plots, histograms, and bar charts.\n",
        "\n",
        "## Types of Plots\n",
        "1. Bar Chart\n",
        "\n",
        "2. Scatter Plot\n",
        "\n",
        "3. Pie Chart\n",
        "\n",
        "4. Histogram\n",
        "\n",
        "5. Line chart\n",
        "\n",
        "6. Area Graph\n",
        "\n",
        "7. etc . . ."
      ],
      "metadata": {
        "id": "jy1Vu_ozFEbl"
      }
    },
    {
      "cell_type": "markdown",
      "source": [
        "There are a number of plotting libraries, but we will focus on `matplotlib`. Another plotting libabry that is popular is named [`seaborn`](https://seaborn.pydata.org/). "
      ],
      "metadata": {
        "id": "NDMtaoVq3tDs"
      }
    },
    {
      "cell_type": "code",
      "source": [
        "import seaborn as sns"
      ],
      "metadata": {
        "id": "3fikPcKc4GT6"
      },
      "execution_count": null,
      "outputs": []
    },
    {
      "cell_type": "code",
      "source": [
        "sns.get_dataset_names()"
      ],
      "metadata": {
        "id": "5HLKE3Nb4YEs"
      },
      "execution_count": null,
      "outputs": []
    },
    {
      "cell_type": "code",
      "source": [
        "titanic = sns.load_dataset('titanic')\n",
        "titanic.head(5)"
      ],
      "metadata": {
        "id": "4zKSN3XI4vCf"
      },
      "execution_count": null,
      "outputs": []
    },
    {
      "cell_type": "code",
      "source": [
        "type(titanic)"
      ],
      "metadata": {
        "id": "FJwXgz7p5Htf"
      },
      "execution_count": null,
      "outputs": []
    },
    {
      "cell_type": "code",
      "source": [
        "tips = sns.load_dataset('tips')\n",
        "tips.head(5)"
      ],
      "metadata": {
        "id": "HfRHxDKF5ACl"
      },
      "execution_count": null,
      "outputs": []
    },
    {
      "cell_type": "code",
      "source": [
        "import numpy as np\n",
        "import pandas as pd\n",
        "import matplotlib as mpl\n",
        "import matplotlib.pyplot as plt\n",
        "%matplotlib inline\n",
        "plt.rcParams['figure.figsize'] = (12, 5)\n",
        "plt.rcParams['figure.dpi'] = 100"
      ],
      "metadata": {
        "id": "yDE7mr-3FC3l"
      },
      "execution_count": null,
      "outputs": []
    },
    {
      "cell_type": "markdown",
      "source": [
        "**Line Plots**\n",
        "\n",
        "Perhaps the simplest of all plots is the visualization of a single function $y=f(x)$. For all matplotlib plots, we start by creating a figure and an axes. In their simplest form, a figure and axes can be created as follows"
      ],
      "metadata": {
        "id": "GoWTXw67GZLf"
      }
    },
    {
      "cell_type": "code",
      "source": [
        "fig = plt.figure()\n",
        "ax = plt.axes()"
      ],
      "metadata": {
        "id": "dTAFOf9TFDp9"
      },
      "execution_count": null,
      "outputs": []
    },
    {
      "cell_type": "code",
      "source": [
        "type(fig)"
      ],
      "metadata": {
        "id": "Wfj9Z3se8LRL"
      },
      "execution_count": null,
      "outputs": []
    },
    {
      "cell_type": "code",
      "source": [
        "type(ax)"
      ],
      "metadata": {
        "id": "gBG3HYV58R7D"
      },
      "execution_count": null,
      "outputs": []
    },
    {
      "cell_type": "markdown",
      "source": [
        "<center><img src=\"https://files.realpython.com/media/fig_map.bc8c7cabd823.png\" width=\"300\" height=\"300\"></center>"
      ],
      "metadata": {
        "id": "Iyv-sW6O58Bq"
      }
    },
    {
      "cell_type": "markdown",
      "source": [
        "The `plt.plot()` function takes additional arguments that can be used to specify these. To adjust the color, you can use the color keyword, which accepts a string argument representing virtually any imaginable color."
      ],
      "metadata": {
        "id": "r3ybAnL3G8oe"
      }
    },
    {
      "cell_type": "code",
      "source": [
        "import numpy as np\n",
        "x = np.linspace(0, 10, 100)"
      ],
      "metadata": {
        "id": "45TdHYdrHNXk"
      },
      "execution_count": null,
      "outputs": []
    },
    {
      "cell_type": "code",
      "source": [
        "fig, ax = plt.subplots()\n",
        "plt.plot(x, np.sin(x), color='blue');            # Specify the color by name\n",
        "plt.plot(x, np.sin(x-1), color='g');             # Short color code (rgbcmyk)\n",
        "plt.plot(x, np.sin(x-2), color='0.75');          # Grayscale between 0 and 1\n",
        "plt.plot(x, np.sin(x-3), color='#FFDD44');       # HEX code (RRGGBB from 00 to FF)\n",
        "plt.plot(x, np.sin(x-4), color=(1.0, 0.2, 0.3)); # RGB tuple (0 and 1)\n",
        "plt.plot(x, np.sin(x-5), color='chartreuse');    # All HTML color names are supported\n",
        "ax.set_xlabel('$x$')\n",
        "ax.set_ylabel('$f(x)$')\n",
        "ax.set_title('Sine Functions');"
      ],
      "metadata": {
        "id": "jY4b9ensGvaj"
      },
      "execution_count": null,
      "outputs": []
    },
    {
      "cell_type": "markdown",
      "source": [
        "Matplotlib does a decent job of choosing default axes limits for your plot, but sometimes it’s nice to have finer control."
      ],
      "metadata": {
        "id": "D-g0pk93IjJf"
      }
    },
    {
      "cell_type": "code",
      "source": [
        "plt.plot(x, np.sin(x))\n",
        "plt.xlim(-1,11)\n",
        "plt.ylim(-1.5, 1.5);"
      ],
      "metadata": {
        "id": "WTxOZIoOHI0B"
      },
      "execution_count": null,
      "outputs": []
    },
    {
      "cell_type": "markdown",
      "source": [
        "Titles and axis labels are the simplest such labels there are methods that can be used to quickly set them."
      ],
      "metadata": {
        "id": "ROh5KTDSI8zN"
      }
    },
    {
      "cell_type": "code",
      "source": [
        "plt.plot(x, np.sin(x))\n",
        "plt.xlabel('x')\n",
        "plt.ylabel('sin(x)')\n",
        "plt.title(\"A Sine Curve\");"
      ],
      "metadata": {
        "id": "Ccn32gc8I1_D"
      },
      "execution_count": null,
      "outputs": []
    },
    {
      "cell_type": "code",
      "source": [
        "x = np.random.randint(low = 1, high = 11, size = 50)\n",
        "y = x + np.random.randint(1, 5, size = x.size)\n",
        "data = np.column_stack((x, y))\n",
        "data[:5]"
      ],
      "metadata": {
        "id": "QSgqp0Ll_LbL"
      },
      "execution_count": null,
      "outputs": []
    },
    {
      "cell_type": "code",
      "source": [
        "fig, (ax1, ax2) = plt.subplots(nrows = 1, ncols = 2, figsize = (8, 4))"
      ],
      "metadata": {
        "id": "VYzJ8xUJ_PsF"
      },
      "execution_count": null,
      "outputs": []
    },
    {
      "cell_type": "code",
      "source": [
        "fig, (ax1, ax2) = plt.subplots(nrows = 1, ncols = 2, figsize = (8, 4))\n",
        "\n",
        "ax1.scatter(x = x, y = y, marker = 'o', c = 'r', edgecolor = 'b')\n",
        "ax1.set_title('Scatter: $x$ versus $y$')\n",
        "ax1.set_xlabel('$x$')\n",
        "ax1.set_ylabel('$y$')\n",
        "\n",
        "ax2.hist(data, bins=np.arange(data.min(), data.max()), label = ('x', 'y'))\n",
        "ax2.legend(loc = (0.65, 0.8))\n",
        "ax2.set_title('Frequencies of $x$ and $y$')\n",
        "ax2.yaxis.tick_right()"
      ],
      "metadata": {
        "id": "UBY_FaLQ_Vjj"
      },
      "execution_count": null,
      "outputs": []
    },
    {
      "cell_type": "markdown",
      "source": [
        "**Bar plots** \n",
        "\n",
        "A bar plot displays the counts of the labels from a categorical column. This can be done using `pandas`\n",
        "\n",
        "```\n",
        "df.plot.bar()\n",
        "```\n",
        "\n",
        "or using `matplotlib`\n",
        "\n",
        "```\n",
        "plt.bar()\n",
        "```"
      ],
      "metadata": {
        "id": "0KbcQ4zRKpTi"
      }
    },
    {
      "cell_type": "code",
      "source": [
        "url = 'https://raw.githubusercontent.com/mahmoudharding/exceed/main/data/titanic.csv'\n",
        "titanic = pd.read_csv(url)\n",
        "titanic"
      ],
      "metadata": {
        "id": "w6TcYIrwJTog"
      },
      "execution_count": null,
      "outputs": []
    },
    {
      "cell_type": "code",
      "source": [
        "titanic['Survived'].value_counts()"
      ],
      "metadata": {
        "id": "wpNMpGOS2i-S"
      },
      "execution_count": null,
      "outputs": []
    },
    {
      "cell_type": "code",
      "source": [
        "titanic['Sex'].value_counts()"
      ],
      "metadata": {
        "id": "1eN-BmnD22fs"
      },
      "execution_count": null,
      "outputs": []
    },
    {
      "cell_type": "code",
      "source": [
        "pd.crosstab(titanic['Survived'], titanic['Sex'])"
      ],
      "metadata": {
        "id": "jYChDp-n3CK8"
      },
      "execution_count": null,
      "outputs": []
    },
    {
      "cell_type": "code",
      "source": [
        "tbl = pd.crosstab(titanic['Sex'], titanic['Survived'])\n",
        "tbl"
      ],
      "metadata": {
        "id": "HDn_5BpQ3XDv"
      },
      "execution_count": null,
      "outputs": []
    },
    {
      "cell_type": "code",
      "source": [
        "tbl.plot.bar()"
      ],
      "metadata": {
        "id": "xS9sJZdq3eNP"
      },
      "execution_count": null,
      "outputs": []
    },
    {
      "cell_type": "code",
      "source": [
        "tbl.plot.bar(rot=0);"
      ],
      "metadata": {
        "id": "iiW7BIL8Amk8"
      },
      "execution_count": null,
      "outputs": []
    },
    {
      "cell_type": "code",
      "source": [
        "titanic.info()"
      ],
      "metadata": {
        "id": "voYnYiYl4TfT"
      },
      "execution_count": null,
      "outputs": []
    },
    {
      "cell_type": "code",
      "source": [
        "titanic['Survived'][:5]"
      ],
      "metadata": {
        "id": "RWMWEfwmBsJj"
      },
      "execution_count": null,
      "outputs": []
    },
    {
      "cell_type": "code",
      "source": [
        "titanic['Survived'] = titanic['Survived'].astype('category')\n",
        "titanic['Survived'][:5]"
      ],
      "metadata": {
        "id": "c72LQmC54lyk"
      },
      "execution_count": null,
      "outputs": []
    },
    {
      "cell_type": "code",
      "source": [
        "titanic['Survived'].value_counts()"
      ],
      "metadata": {
        "id": "jNhm8cuB41y1"
      },
      "execution_count": null,
      "outputs": []
    },
    {
      "cell_type": "code",
      "source": [
        "titanic['Survived'].cat.categories = ['Died', 'Survived']\n",
        "titanic['Survived'][:5]"
      ],
      "metadata": {
        "id": "7FQwlzlx5cTe"
      },
      "execution_count": null,
      "outputs": []
    },
    {
      "cell_type": "code",
      "source": [
        "titanic['Survived'].value_counts()"
      ],
      "metadata": {
        "id": "qcuMrFHA56Cd"
      },
      "execution_count": null,
      "outputs": []
    },
    {
      "cell_type": "markdown",
      "source": [
        "**Note:** \n",
        "\n",
        "- `x` represents the categories.\n",
        "\n",
        "- `height` represents the corresponding heights."
      ],
      "metadata": {
        "id": "HgPU4f9uCS4G"
      }
    },
    {
      "cell_type": "code",
      "source": [
        "plt.bar(x = ['Died', 'Suvived'], height = titanic['Survived'].value_counts());"
      ],
      "metadata": {
        "id": "0V9zayr36LGa"
      },
      "execution_count": null,
      "outputs": []
    },
    {
      "cell_type": "markdown",
      "source": [
        "Let's convert the `Embarked` and `Sex` columns to type category."
      ],
      "metadata": {
        "id": "vH59SJJ-Ckyp"
      }
    },
    {
      "cell_type": "code",
      "source": [
        "titanic.Embarked = titanic.Embarked.astype('category')\n",
        "titanic.Sex = titanic.Sex.astype('category')"
      ],
      "metadata": {
        "id": "eGbtIwkACcud"
      },
      "execution_count": null,
      "outputs": []
    },
    {
      "cell_type": "code",
      "source": [
        "print(titanic['Embarked'][:6])\n",
        "print('\\n')\n",
        "print(titanic['Sex'][:6])"
      ],
      "metadata": {
        "id": "IyvjdN6zC1Ea"
      },
      "execution_count": null,
      "outputs": []
    },
    {
      "cell_type": "code",
      "source": [
        "titanic.Embarked.cat.categories = [\"Cherbourg\", \"Queenstown\", \"Southampton\"]\n",
        "titanic.Sex.cat.categories = [\"Female\", \"Male\"]"
      ],
      "metadata": {
        "id": "gxif_2WGDZBz"
      },
      "execution_count": null,
      "outputs": []
    },
    {
      "cell_type": "markdown",
      "source": [
        "**Stacked Bar Plot**"
      ],
      "metadata": {
        "id": "La67hlX9ECX9"
      }
    },
    {
      "cell_type": "code",
      "source": [
        "tbl = pd.crosstab(titanic.Embarked, titanic.Survived)\n",
        "tbl"
      ],
      "metadata": {
        "id": "EBu0M7XWEKPC"
      },
      "execution_count": null,
      "outputs": []
    },
    {
      "cell_type": "code",
      "source": [
        "type(tbl)"
      ],
      "metadata": {
        "id": "ER49nW1_EBrx"
      },
      "execution_count": null,
      "outputs": []
    },
    {
      "cell_type": "code",
      "source": [
        "print(titanic.Embarked.cat.categories)"
      ],
      "metadata": {
        "id": "8R3KitdwEUUi"
      },
      "execution_count": null,
      "outputs": []
    },
    {
      "cell_type": "markdown",
      "source": [
        "Using `.loc` we can slice our two-way contingency table. "
      ],
      "metadata": {
        "id": "xwKjHolkGmbz"
      }
    },
    {
      "cell_type": "code",
      "source": [
        "tbl.loc[:, 'Survived']"
      ],
      "metadata": {
        "id": "5qWSXMBNGf7B"
      },
      "execution_count": null,
      "outputs": []
    },
    {
      "cell_type": "code",
      "source": [
        "tbl.loc[('Cherbourg','Southampton'), 'Survived':]"
      ],
      "metadata": {
        "id": "Nx-1okoDEZQQ"
      },
      "execution_count": null,
      "outputs": []
    },
    {
      "cell_type": "code",
      "source": [
        "p1 = plt.bar(x = [\"Cherbourg\", \"Queenstown\", \"Southampton\"],\n",
        "             height = tbl.loc[:, \"Died\"], label = 'Died')\n",
        "\n",
        "p2 = plt.bar(x = [\"Cherbourg\", \"Queenstown\", \"Southampton\"],\n",
        "             height = tbl.loc[:, \"Survived\"],\n",
        "             bottom = tbl.loc[:, \"Died\"], label = 'Survived')\n",
        "\n",
        "plt.title(\"Passenger Counts for Each Port\")\n",
        "plt.xlabel(\"\\nPort Embarked\")\n",
        "plt.ylabel(\"Count\")\n",
        "plt.legend();"
      ],
      "metadata": {
        "id": "QJ1UMnAXHLVK"
      },
      "execution_count": null,
      "outputs": []
    },
    {
      "cell_type": "code",
      "source": [
        "labels = [\"Cherbourg\", \"Queenstown\", \"Southampton\"]\n",
        "\n",
        "fig, ax = plt.subplots()\n",
        "ax.bar(labels, tbl.loc[:, \"Died\"], label = 'Died')\n",
        "ax.bar(labels, height = tbl.loc[:, \"Survived\"], \n",
        "               bottom = tbl.loc[:, \"Died\"], \n",
        "               label = 'Survived')\n",
        "\n",
        "ax.set_title(\"Passenger Counts for Each Port\")\n",
        "ax.set_xlabel(\"\\nPort Embarked\")\n",
        "ax.set_ylabel('Count')\n",
        "ax.legend();"
      ],
      "metadata": {
        "id": "nCVXyzSLISZ3"
      },
      "execution_count": null,
      "outputs": []
    },
    {
      "cell_type": "code",
      "source": [
        "tbl.plot.bar(stacked = True, rot = 0);"
      ],
      "metadata": {
        "id": "6t0hFZBtJi9N"
      },
      "execution_count": null,
      "outputs": []
    },
    {
      "cell_type": "markdown",
      "source": [
        "**Side by Side Bar Chart**"
      ],
      "metadata": {
        "id": "7ZX_N44jJxul"
      }
    },
    {
      "cell_type": "code",
      "source": [
        "tbl.plot.bar(rot = 0);"
      ],
      "metadata": {
        "id": "HPwpezK8JwZO"
      },
      "execution_count": null,
      "outputs": []
    },
    {
      "cell_type": "code",
      "source": [
        "ax = tbl.plot.bar(rot = 0)\n",
        "ax.set_title(\"Passenger Counts For Each Port\")\n",
        "ax.set_xlabel(\"\\nPort\")\n",
        "ax.set_ylabel(\"Count\")\n",
        "ax.legend(loc = \"upper left\");"
      ],
      "metadata": {
        "id": "wMom8xU4KA_J"
      },
      "execution_count": null,
      "outputs": []
    },
    {
      "cell_type": "markdown",
      "source": [
        "**Histograms**\n",
        "\n",
        "A histogram is an approximate representation of the distribution (the frequency and pattern) of numerical data.\n",
        "\n",
        "Now let's look at the distribution of the ages of the passengers on the titanic."
      ],
      "metadata": {
        "id": "nkwRqRpuP0wh"
      }
    },
    {
      "cell_type": "code",
      "source": [
        "titanic.Age.hist();"
      ],
      "metadata": {
        "id": "Xw3Ldq-OQhr4"
      },
      "execution_count": null,
      "outputs": []
    },
    {
      "cell_type": "code",
      "source": [
        "ax = titanic.Age.hist()\n",
        "ax.grid(False)\n",
        "ax.set_title(\"Distribution of Passenger Ages\")\n",
        "ax.set_xlabel(\"\\nAges\")\n",
        "ax.set_ylabel(\"Count\");"
      ],
      "metadata": {
        "id": "fN0hy3KuKSft"
      },
      "execution_count": null,
      "outputs": []
    },
    {
      "cell_type": "code",
      "source": [
        "ax = titanic.Age.hist(edgecolor = \"black\")\n",
        "ax.grid(False)\n",
        "ax.set_title(\"Distribution of Passenger Ages\")\n",
        "ax.set_xlabel(\"\\nAges\")\n",
        "ax.set_ylabel(\"Count\");"
      ],
      "metadata": {
        "id": "R3CGiZqvKWu8"
      },
      "execution_count": null,
      "outputs": []
    },
    {
      "cell_type": "code",
      "source": [
        "ax = titanic.Age.hist(color = \"red\", edgecolor = \"black\", bins = 6)\n",
        "ax.grid(False)\n",
        "ax.set_title(\"Distribution of Passenger Ages\")\n",
        "ax.set_xlabel(\"\\nAges\")\n",
        "ax.set_ylabel(\"Count\");"
      ],
      "metadata": {
        "id": "CEmXoJOCKXeK"
      },
      "execution_count": null,
      "outputs": []
    },
    {
      "cell_type": "code",
      "source": [
        "bins = [0, 10, 20, 30, 40, 50, 60, 70]\n",
        "ax = titanic.Age.hist(color = \"lightblue\", edgecolor = \"blue\", bins = bins)\n",
        "ax.grid(False)\n",
        "ax.set_title(\"Distribution of Passenger Ages\")\n",
        "ax.set_xlabel(\"\\nAges\")\n",
        "ax.set_ylabel(\"Count\");"
      ],
      "metadata": {
        "id": "uwqhLfC-KgYH"
      },
      "execution_count": null,
      "outputs": []
    },
    {
      "cell_type": "markdown",
      "source": [
        "**Side by Side Histograms**"
      ],
      "metadata": {
        "id": "FZMbqOi5K-6B"
      }
    },
    {
      "cell_type": "code",
      "source": [
        "ax1, ax2 = titanic.Age.hist(edgecolor = \"black\", bins = bins, by = titanic.Survived, rot = 0)\n",
        "ax1.set_xlabel(\"\\nAge\")\n",
        "ax2.set_xlabel(\"\\nAge\");"
      ],
      "metadata": {
        "id": "F0PtTIdOKm1F"
      },
      "execution_count": null,
      "outputs": []
    },
    {
      "cell_type": "markdown",
      "source": [
        "**Overliad Histograms**"
      ],
      "metadata": {
        "id": "V8Up3Kt9LCh8"
      }
    },
    {
      "cell_type": "code",
      "source": [
        "male = titanic.loc[titanic.Sex == 'Male'].Age\n",
        "female = titanic.loc[titanic.Sex == 'Female'].Age\n",
        "\n",
        "num_bins = 10\n",
        "\n",
        "ax = male.hist(bins = num_bins, alpha = 0.5, label = 'Male', edgecolor = 'black')\n",
        "ax = female.hist(bins = num_bins, alpha = 0.5, label = 'Female', edgecolor = 'black')\n",
        "ax.grid(False)\n",
        "ax.set_xlabel(\"\\nFare\")\n",
        "ax.set_ylabel(\"Count\")\n",
        "ax.legend();"
      ],
      "metadata": {
        "id": "T228m3xrK5o0"
      },
      "execution_count": null,
      "outputs": []
    },
    {
      "cell_type": "code",
      "source": [
        "age_died = titanic.loc[titanic.Survived == \"Died\", \"Age\"]\n",
        "age_survived = titanic.loc[titanic.Survived == \"Survived\", \"Age\"]\n",
        "ax = age_died.hist(alpha = 0.5, label = 'Died', edgecolor = 'black')\n",
        "ax = age_survived.hist(alpha = 0.5, label = 'Survived', edgecolor = 'black')\n",
        "ax.grid(False)\n",
        "ax.set_xlabel(\"\\nAge\")\n",
        "ax.set_ylabel(\"Count\")\n",
        "ax.legend();"
      ],
      "metadata": {
        "id": "2_WkYNsfLqCL"
      },
      "execution_count": null,
      "outputs": []
    },
    {
      "cell_type": "markdown",
      "source": [
        "**Scatter Plot**\n",
        "\n",
        "Scatter plots are used to visualize the linear association between two numerical features."
      ],
      "metadata": {
        "id": "R2g5LviKQV9n"
      }
    },
    {
      "cell_type": "code",
      "source": [
        "titanic.plot.scatter(x = \"Age\", y = \"Fare\");"
      ],
      "metadata": {
        "id": "F1sRahx1PYkf"
      },
      "execution_count": null,
      "outputs": []
    },
    {
      "cell_type": "code",
      "source": [
        "titanic.plot.scatter(x = \"Age\", y = \"Fare\", c = \"red\", s = 40, marker = \"^\");"
      ],
      "metadata": {
        "id": "_UlDKx8JL16Z"
      },
      "execution_count": null,
      "outputs": []
    },
    {
      "cell_type": "code",
      "source": [
        "ax = plt.scatter(x = titanic.loc[titanic.Survived == \"Died\"].Age, \n",
        "                 y = titanic.loc[titanic.Survived == \"Died\"].Fare, \n",
        "                 alpha = 0.5, c = \"red\", \n",
        "                 label = \"Died\")\n",
        "ax = plt.scatter(x = titanic.loc[titanic.Survived == \"Survived\"].Age, \n",
        "                 y = titanic.loc[titanic.Survived == \"Survived\"].Fare, \n",
        "                 alpha = 0.25, c = \"blue\", \n",
        "                 label = \"Survived\")\n",
        "\n",
        "plt.title(\"Scatter Plot of Age vs. Fare by Survival Status\")\n",
        "plt.xlabel(\"Age\")\n",
        "plt.ylabel(\"Fare\")\n",
        "plt.legend();"
      ],
      "metadata": {
        "id": "GO1yPFtKL4Ck"
      },
      "execution_count": null,
      "outputs": []
    },
    {
      "cell_type": "markdown",
      "source": [
        "**Line Plot**\n",
        "\n",
        "A line plot is a graph that shows frequency of data along a number line."
      ],
      "metadata": {
        "id": "mjOb-be4NYOa"
      }
    },
    {
      "cell_type": "code",
      "source": [
        "avocado = pd.read_csv('https://raw.githubusercontent.com/mahmoudharding/exceed/main/data/avocado.csv', index_col = 0)\n",
        "avocado.head(5)"
      ],
      "metadata": {
        "id": "pIUk5OcqOJwX"
      },
      "execution_count": null,
      "outputs": []
    },
    {
      "cell_type": "markdown",
      "source": [
        "Suppose we want the average total volume for each day."
      ],
      "metadata": {
        "id": "wC-DvM7yOfCn"
      }
    },
    {
      "cell_type": "code",
      "source": [
        "..."
      ],
      "metadata": {
        "id": "Ni5WPTNAOaeL"
      },
      "execution_count": null,
      "outputs": []
    },
    {
      "cell_type": "code",
      "source": [
        "..."
      ],
      "metadata": {
        "id": "7Be5kYohO10b"
      },
      "execution_count": null,
      "outputs": []
    },
    {
      "cell_type": "code",
      "source": [
        "..."
      ],
      "metadata": {
        "id": "eIYfrdghO7i2"
      },
      "execution_count": null,
      "outputs": []
    },
    {
      "cell_type": "code",
      "source": [
        "..."
      ],
      "metadata": {
        "id": "RGug2GIxPBc6"
      },
      "execution_count": null,
      "outputs": []
    },
    {
      "cell_type": "code",
      "source": [
        "avocado_vol = pd.read_csv('https://raw.githubusercontent.com/mahmoudharding/exceed/main/data/avocado_total_vol.csv', index_col = 0)\n",
        "avocado_vol.head(5)"
      ],
      "metadata": {
        "id": "qQnPDaAoMOMq"
      },
      "execution_count": null,
      "outputs": []
    },
    {
      "cell_type": "code",
      "source": [
        "labels = avocado_vol['Date'].to_list()\n",
        "labels"
      ],
      "metadata": {
        "id": "UXtPt5i0Ngz4"
      },
      "execution_count": null,
      "outputs": []
    },
    {
      "cell_type": "code",
      "source": [
        "xs = np.arange(12)\n",
        "ax = avocado_vol.plot('Date', 'Average Total Volume', legend = None)\n",
        "ax.set_xticks(xs)\n",
        "ax.set_xticklabels(labels, rotation = -45)\n",
        "\n",
        "plt.title(\"Average Total Volume\")\n",
        "plt.xlabel(\"\\n Date\")\n",
        "plt.ylabel(\"Volume\");"
      ],
      "metadata": {
        "id": "nOwXwcRVNsEK"
      },
      "execution_count": null,
      "outputs": []
    },
    {
      "cell_type": "code",
      "source": [],
      "metadata": {
        "id": "4Bpv-oY_N0Tp"
      },
      "execution_count": null,
      "outputs": []
    }
  ]
}